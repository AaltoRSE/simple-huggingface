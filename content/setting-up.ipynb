{
 "cells": [
  {
   "cell_type": "markdown",
   "id": "dd63e696-85de-4233-b5f8-2425c4037120",
   "metadata": {},
   "source": [
    "# Setting up Hugging Face"
   ]
  },
  {
   "cell_type": "markdown",
   "id": "41383fb5-d434-44d6-8737-ad8a1ccd4c05",
   "metadata": {},
   "source": [
    "## Hugging Face packages\n",
    "\n",
    "Hugging Face ecosystem is spread across multiple packages that provide different functionalities. We'll go through some of the major ones.\n",
    "\n",
    "\n",
    "### Transformers\n",
    "\n",
    "[Transformers](https://huggingface.co/docs/transformers/index) is a core package of Hugging Face that defines what Hugging Face models and pipelines are. It makes it possible to run inference on models from [Hugging Face model hub](https://huggingface.co/models)\n",
    "\n",
    "The name of the library is `transformers` in conda-forge and in PyPi.\n",
    "\n",
    "\n",
    "### Datasets\n",
    "\n",
    "[Datasets](https://huggingface.co/docs/datasets/index) is a library for downloading, using and sharing datasets in [Hugging Face datasets hub](https://huggingface.co/datasets).\n",
    "\n",
    "The name of the library is `datasets` in conda-forge and in PyPi.\n",
    "\n",
    "\n",
    "### Accelerate\n",
    "\n",
    "[Accelerate](https://huggingface.co/docs/accelerate/index) is a library for doing model training with PyTorch. It supports distributed training as well.\n",
    "\n",
    "\n",
    "The name of the library is `accelerate` in conda-forge and in PyPi.\n",
    "\n",
    "\n",
    "### Hugging Face Hub Client\n",
    "\n",
    "[Hugging Face Hub client library](https://huggingface.co/docs/huggingface_hub/index) allows you to interact with the Hugging Face hub. Datasets and Transformers use it to download datasets and models from the Hugging Face hub. There is also a command line interface (CLI) that you can use to login to Hugging Face hub and to download models manually. \n",
    "\n",
    "The name of the library is `huggingface_hub` in conda-forge and in PyPi. If you want the command line client when installing from PyPi use `huggingface_hub[cli]`.\n",
    "\n",
    "### Other libraries\n",
    "\n",
    "In these demos we also use:\n",
    "- `sentencepiece`\n",
    "- `bitsandbytes`"
   ]
  },
  {
   "cell_type": "markdown",
   "id": "6ec47daa-e63e-494d-b2ea-05d2fbe357f4",
   "metadata": {},
   "source": [
    "## Logging into Hugging Face hub\n",
    "\n",
    "If you have created an account in Hugging Face hub you can login with `hf`, which is the Hugging Face command line interface (in older versions this was [huggingface-cli](https://huggingface.co/blog/hf-cli)).\n",
    "\n",
    "Run this in a command line:\n",
    "```sh\n",
    "hf auth login\n",
    "```\n",
    "\n",
    "If you do not have a token created, go to [Settings > Access Tokens](https://huggingface.co/settings/tokens) and create one. Its good idea to have individual tokens for different systems so you can revoke them if necessary."
   ]
  },
  {
   "cell_type": "markdown",
   "id": "5b6bea65-43ef-4692-bcd0-cf78e9ccf92c",
   "metadata": {},
   "source": [
    "## Environment variables and storage locations\n",
    "\n",
    "Hugging Face uses many environment variables (more detailed list is [here](https://huggingface.co/docs/huggingface_hub/en/package_reference/environment_variables)) to determine where it should store various files.\n",
    "\n",
    "By default, Hugging Face client library will store everything under `HF_HOME`, which is `~/.cache/huggingface` in Linux systems.\n",
    "\n",
    "Stored data includes:\n",
    " - Authentication tokens\n",
    " - Downloaded datasets\n",
    " - Downloaded models\n",
    "\n",
    "In many systems you do not want to use this default location. In high-performance clusters you'll most likely want to use some storage location reserved for your project for the large datasets.\n",
    "\n",
    "Some of the most common environment variables to move things around are:\n",
    "\n",
    "- `HF_HOME` - Default location for storing everything related to Hugging Face hub.\n",
    "- `HF_HUB_CACHE` - Location where cached models and datasets are downloaded. Defaults to `$HF_HOME/hub`.\n",
    "- `HF_TOKEN` - Location where your Hugging Face hub token is stored. Defaults to `$HF_HOME/token`.\n",
    "\n",
    "Usually you'll want to set these in your submission scripts, but if you're using notebooks, you might want to use notebooks cells like these before importing Hugging Face libraries."
   ]
  },
  {
   "cell_type": "code",
   "execution_count": 5,
   "id": "40062162-c155-4213-9334-388654b77648",
   "metadata": {},
   "outputs": [],
   "source": [
    "import os\n",
    "# Here environment variable WRKDIR points to a personal work directory\n",
    "os.environ[\"HF_HOME\"] = f\"{os.environ[\"WRKDIR\"]}/huggingface\"\n",
    "os.environ[\"HF_TOKEN\"] = \"~/.cache/huggingface/token\""
   ]
  }
 ],
 "metadata": {
  "kernelspec": {
   "display_name": "simple-huggingface",
   "language": "python",
   "name": "simple-huggingface"
  },
  "language_info": {
   "codemirror_mode": {
    "name": "ipython",
    "version": 3
   },
   "file_extension": ".py",
   "mimetype": "text/x-python",
   "name": "python",
   "nbconvert_exporter": "python",
   "pygments_lexer": "ipython3",
   "version": "3.12.11"
  }
 },
 "nbformat": 4,
 "nbformat_minor": 5
}
